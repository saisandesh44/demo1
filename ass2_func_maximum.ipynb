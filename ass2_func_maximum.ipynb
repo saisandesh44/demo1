{
 "cells": [
  {
   "cell_type": "code",
   "execution_count": 4,
   "metadata": {},
   "outputs": [
    {
     "name": "stdout",
     "output_type": "stream",
     "text": [
      "enter the value of a 44\n",
      "enter the value of b 55\n",
      "enter the value of c 66\n",
      "the maximum of 3 numbers  66\n"
     ]
    }
   ],
   "source": [
    "def maximum(a,b,c):\n",
    "    if a>b:\n",
    "        if(a>c):\n",
    "            largest=a\n",
    "        else:\n",
    "            largest=c\n",
    "        \n",
    "            \n",
    "    else:\n",
    "        if b>c:\n",
    "            largest=b\n",
    "            \n",
    "        else:   \n",
    "            largest=c\n",
    "    return largest\n",
    "a=int(input(\"enter the value of a \"))\n",
    "b=int(input(\"enter the value of b \"))\n",
    "c=int(input(\"enter the value of c \"))\n",
    "print(\"the maximum of 3 numbers \",maximum(a,b,c))"
   ]
  }
 ],
 "metadata": {
  "kernelspec": {
   "display_name": "Python 3",
   "language": "python",
   "name": "python3"
  },
  "language_info": {
   "codemirror_mode": {
    "name": "ipython",
    "version": 3
   },
   "file_extension": ".py",
   "mimetype": "text/x-python",
   "name": "python",
   "nbconvert_exporter": "python",
   "pygments_lexer": "ipython3",
   "version": "3.8.3"
  }
 },
 "nbformat": 4,
 "nbformat_minor": 4
}
