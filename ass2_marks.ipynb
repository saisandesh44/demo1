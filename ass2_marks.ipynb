{
 "cells": [
  {
   "cell_type": "code",
   "execution_count": 7,
   "metadata": {},
   "outputs": [
    {
     "name": "stdout",
     "output_type": "stream",
     "text": [
      "enter the marks 34.6\n",
      "The student is fail\n",
      "Better Luck Next Time \n"
     ]
    }
   ],
   "source": [
    "marks=float(input(\"enter the marks \"))\n",
    "if marks>=35:\n",
    " print(\"The student is pass \")\n",
    "else:\n",
    " print(\"The student is fail\\nBetter Luck Next Time \")"
   ]
  }
 ],
 "metadata": {
  "kernelspec": {
   "display_name": "Python 3",
   "language": "python",
   "name": "python3"
  },
  "language_info": {
   "codemirror_mode": {
    "name": "ipython",
    "version": 3
   },
   "file_extension": ".py",
   "mimetype": "text/x-python",
   "name": "python",
   "nbconvert_exporter": "python",
   "pygments_lexer": "ipython3",
   "version": "3.8.3"
  }
 },
 "nbformat": 4,
 "nbformat_minor": 4
}
