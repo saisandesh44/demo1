{
 "cells": [
  {
   "cell_type": "code",
   "execution_count": 7,
   "metadata": {},
   "outputs": [
    {
     "name": "stdout",
     "output_type": "stream",
     "text": [
      "enter the value of a 2\n",
      "enter the value of b 2\n",
      "sum is =  4\n",
      "sum is lesser than 5 \n"
     ]
    }
   ],
   "source": [
    "a=int(input(\"enter the value of a \"))\n",
    "b=int(input(\"enter the value of b \"))\n",
    "sum=a+b\n",
    "print(\"sum is = \",sum)\n",
    "if sum==5:\n",
    " print(\"sum is equal to 5 \")\n",
    "elif sum>5:\n",
    " print(\"sum is greater than 5 \")  \n",
    "else:\n",
    " print(\"sum is lesser than 5 \")"
   ]
  }
 ],
 "metadata": {
  "kernelspec": {
   "display_name": "Python 3",
   "language": "python",
   "name": "python3"
  },
  "language_info": {
   "codemirror_mode": {
    "name": "ipython",
    "version": 3
   },
   "file_extension": ".py",
   "mimetype": "text/x-python",
   "name": "python",
   "nbconvert_exporter": "python",
   "pygments_lexer": "ipython3",
   "version": "3.8.3"
  }
 },
 "nbformat": 4,
 "nbformat_minor": 4
}
